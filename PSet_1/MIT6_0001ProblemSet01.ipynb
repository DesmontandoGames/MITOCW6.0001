{
  "nbformat": 4,
  "nbformat_minor": 0,
  "metadata": {
    "colab": {
      "provenance": [],
      "authorship_tag": "ABX9TyOgKCyEnrDVQLR+9YstXBi1",
      "include_colab_link": true
    },
    "kernelspec": {
      "name": "python3",
      "display_name": "Python 3"
    },
    "language_info": {
      "name": "python"
    }
  },
  "cells": [
    {
      "cell_type": "markdown",
      "metadata": {
        "id": "view-in-github",
        "colab_type": "text"
      },
      "source": [
        "<a href=\"https://colab.research.google.com/github/DesmontandoGames/MITOCW6.0001/blob/main/PSet_1/MIT6_0001ProblemSet01.ipynb\" target=\"_parent\"><img src=\"https://colab.research.google.com/assets/colab-badge.svg\" alt=\"Open In Colab\"/></a>"
      ]
    },
    {
      "cell_type": "markdown",
      "source": [
        "**Part A:** House Hunting\n",
        "\n",
        "You have graduated from MIT and now have a great job! You move to the San Francisco Bay Area and decide that you want to start saving to buy a house.  As housing prices are very high in the Bay Area, you realize you are going to have to save for several years before you can afford to make the down payment on a house. In Part A, we are going to determine how long it will take you to save enough money to make the down payment given the following assumptions:\n",
        "\n",
        "1.   Call the cost of your dream home **total_cost**.\n",
        "2.   Call the portion of the cost needed for a down payment **portion_down_payment**. For simplicity, assume that portion_down_payment = 0.25 (25%).\n",
        "3.   Call the amount that you have saved thus far **current_savings**. You start with a current savings of $0.\n",
        "4.   Assume that you invest your current savings wisely, with an annual return of **r** (in other words, at the end of each month, you receive an additional **current_savings*r**/12 funds to put into your savings – the 12 is because r is an annual rate). Assume that your investments earn a return of r = 0.04 (4%).\n",
        "5.   Assume your annual salary is **annual_salary**.\n",
        "6.   Assume you are going to dedicate a certain amount of your salary each month to saving for the down payment. Call that **portion_saved**. This variable should be in decimal form (i.e. 0.1 for 10%).\n",
        "7.   At the end of each month, your savings will be increased by the return on your investment, plus a percentage of your monthly salary (annual salary / 12).\n",
        "\n",
        "Write a program to calculate how many months it will take you to save up enough money for a down payment. You will want your main variables to be floats, so you should cast user inputs to floats.\n",
        "\n",
        "Your program should ask the user to enter the following variables:\n",
        "1.    The starting annual salary (**annual_salary**)\n",
        "2.    The portion of salary to be saved (**portion_saved**)\n",
        "3.    The cost of your dream home (**total_cost**)\n",
        "\n"
      ],
      "metadata": {
        "id": "vtI2gJPnuNEk"
      }
    },
    {
      "cell_type": "code",
      "source": [
        "#ps1a.py\n",
        "\n",
        "annual_salary = float(input(\"Enter your annual salary: \"))\n",
        "portion_saved = float(input(\"Enter the percent of your salary to save, as a decimal: \"))\n",
        "total_cost = float(input(\"Enter the cost of your dream home: \"))\n",
        "\n",
        "portion_down_payment = 0.25 * total_cost\n",
        "current_savings = 0.0\n",
        "months = 0\n",
        "r = 0.04\n",
        "\n",
        "while current_savings < portion_down_payment:\n",
        "  current_savings += (current_savings * r / 12) + (annual_salary * portion_saved / 12)\n",
        "  months += 1\n",
        "\n",
        "print(\"Number of months:\", months)"
      ],
      "metadata": {
        "id": "jRFD6cb-xIvm"
      },
      "execution_count": null,
      "outputs": []
    },
    {
      "cell_type": "markdown",
      "source": [
        "**Part B:** Saving, with a raise\n",
        "\n",
        "**Background**\n",
        "\n",
        "In Part A, we unrealistically assumed that your salary didn't change.  But you are an MIT graduate, and clearly you are going to be worth more to your company over time! So we are going to build on your solution to Part A by factoring in a raise every six months.\n",
        "\n",
        "In ps1b.py, copy your solution to Part A (as we are going to reuse much of that machinery).  Modify your program to include the following:\n",
        "\n",
        "1. Have the user input a semi-annual salary raise **semi_annual_raise** (as a decimal percentage).\n",
        "2. After the 6th month, increase your salary by that percentage.  Do the same after the 12th month, the 18th month, and so on.\n",
        "\n",
        "Write a program to calculate how many months it will take you save up enough money for a down payment.  LIke before, assume that your investments earn a return of r = 0.04 (or 4%) and the required down payment percentage is 0.25 (or 25%).  Have the user enter the following variables:\n",
        "\n",
        "1. The starting annual salary (**annual_salary**)\n",
        "2. The percentage of salary to be saved (**portion_saved**)\n",
        "3. The cost of your dream home (**total_cost**)\n",
        "4. The semi-annual salary raise (**semi_annual_raise**)"
      ],
      "metadata": {
        "id": "Zi9Uyspi1K_m"
      }
    },
    {
      "cell_type": "code",
      "source": [
        "#ps1b.py\n",
        "\n",
        "annual_salary = float(input(\"Enter your annual salary: \"))\n",
        "semi_annual_raise = float(input(\"Enter the semi-annual raise, as a decimal percentage: \"))\n",
        "portion_saved = float(input(\"Enter the percent of your salary to save, as a decimal: \"))\n",
        "total_cost = float(input(\"Enter the cost of your dream home: \"))\n",
        "\n",
        "portion_down_payment = 0.25 * total_cost\n",
        "current_savings = 0.0\n",
        "months = 0\n",
        "r = 0.04\n",
        "\n",
        "while current_savings < portion_down_payment:\n",
        "  current_savings += (current_savings * r / 12) + (annual_salary * portion_saved / 12)\n",
        "  months += 1\n",
        "  if months % 6 == 0:\n",
        "    annual_salary += annual_salary * semi_annual_raise\n",
        "\n",
        "print(\"Number of months:\", months)"
      ],
      "metadata": {
        "id": "o-fA_vYd2VG_"
      },
      "execution_count": null,
      "outputs": []
    },
    {
      "cell_type": "markdown",
      "source": [
        "**Part C:** Finding the right amount to save away\n",
        "\n",
        "In Part B, you had a chance to explore how both the percentage of your salary that you save each month and your annual raise affect how long it takes you to save for a down payment.  This is nice, but suppose you want to set a particular goal, e.g. to be able to afford the down payment in three years.\n",
        "How much should you save each month to achieve this?  In this problem, you are going to write a program to answer that question.  To simplify things, assume:\n",
        "\n",
        "1.  Your semi­annual raise is .07 (7%)\n",
        "2.  Your investments have an annual return of 0.04 (4%)  \n",
        "3.  The down payment is 0.25 (25%) of the cost of the house\n",
        "4.  The cost of the house that you are saving for is \\$1M.\n",
        "\n",
        "You are now going to try to find the best rate of savings to achieve a down payment on a \\$1M house in 36 months. Since hitting this exactly is a challenge, we simply want your savings to be within $100 of the required down payment.\n",
        "\n",
        "In ps1c.py, write a program to calculate the best savings rate, as a function of your starting salary. You should use **bisection search** to help you do this efficiently. You should keep track of the number of steps it takes your bisections search to finish. You should be able to reuse some of the code you wrote for part B in this problem.  \n",
        "\n",
        "Because we are searching for a value that is in principle a float, we are going to limit ourselves to two decimals of accuracy (i.e., we may want to save at 7.04% ­­ or 0.0704 in decimal – but we are not going to worry about the difference between 7.041% and 7.039%).  This means we can search for an integer between 0 and 10000 (using integer division), and then convert it to a decimal percentage (using float division) to use when we are calculating the current_savings after 36 months. By using this range, there are only a finite number of numbers that we are searching over, as opposed to the infinite number of decimals between 0 and 1. This range will help prevent infinite loops. The reason we use 0 to 10000 is to account for two additional decimal places in the range 0% to 100%. Your code should print out a decimal (e.g. 0.0704 for 7.04%).\n",
        "\n",
        "Try different inputs for your starting salary, and see how the percentage you need to save changes to reach your desired down payment.  Also keep in mind it may not be possible for to save a down payment in a year and a half for some salaries. In this case your function should notify the user that it is not possible to save for the down payment in 36 months with a print statement."
      ],
      "metadata": {
        "id": "5XfPUr-I4X5p"
      }
    },
    {
      "cell_type": "code",
      "source": [
        "#ps1c.py\n",
        "\n",
        "annual_salary = float(input('Enter your annual salary: '))\n",
        "\n",
        "total_cost = 1000000\n",
        "portion_down_payment = 0.25 * total_cost\n",
        "\n",
        "semi_annual_raise = .07\n",
        "r = .04\n",
        "\n",
        "low_portion_saved_rate = 0\n",
        "high_portion_saved_rate = 10000\n",
        "portion_saved = (low_portion_saved_rate + high_portion_saved_rate) // 2\n",
        "\n",
        "steps_bisection_search = 1\n",
        "\n",
        "while True:\n",
        "    annual_salary_copy = annual_salary\n",
        "    current_savings = 0\n",
        "    for months in range(1, 37):\n",
        "      current_savings += (current_savings * r / 12) + (annual_salary_copy * portion_saved / 120000)\n",
        "      if months % 6 == 0:\n",
        "        annual_salary_copy += annual_salary_copy * semi_annual_raise\n",
        "    if abs(current_savings - portion_down_payment) <= 100 or abs(low_portion_saved_rate - high_portion_saved_rate) <= 1:\n",
        "      break\n",
        "    elif current_savings < portion_down_payment:\n",
        "      low_portion_saved_rate = portion_saved\n",
        "    else:\n",
        "      high_portion_saved_rate = portion_saved\n",
        "    portion_saved = (low_portion_saved_rate + high_portion_saved_rate) // 2\n",
        "    steps_bisection_search += 1\n",
        "\n",
        "if abs(current_savings - portion_down_payment) > 100:\n",
        "  print('It is not possible to pay the down payment in three years.')\n",
        "else:\n",
        "  print('Best savings rate:', round(portion_saved / 10000, 4))\n",
        "  print('Steps in bisection search:', steps_bisection_search)"
      ],
      "metadata": {
        "id": "aa8ONmW0AsZK"
      },
      "execution_count": null,
      "outputs": []
    }
  ]
}